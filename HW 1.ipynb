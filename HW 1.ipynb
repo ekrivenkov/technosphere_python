{
 "cells": [
  {
   "cell_type": "markdown",
   "metadata": {},
   "source": [
    "** Найти сумму всех чисел до 1000, которые делятся на 3 или 5 без остатка **"
   ]
  },
  {
   "cell_type": "code",
   "execution_count": 2,
   "metadata": {
    "collapsed": false
   },
   "outputs": [
    {
     "name": "stdout",
     "output_type": "stream",
     "text": [
      "233168\n"
     ]
    }
   ],
   "source": [
    "def num_gen():\n",
    "    for num in xrange(1000):\n",
    "        if not num % 3 or not num % 5:\n",
    "            yield num\n",
    "\n",
    "print sum(num_gen())"
   ]
  },
  {
   "cell_type": "markdown",
   "metadata": {},
   "source": [
    "** Найти сумму всех четных чисел в последовательности Фиббоначи, которые меньше миллиона, 5 баллов**"
   ]
  },
  {
   "cell_type": "code",
   "execution_count": 1,
   "metadata": {
    "collapsed": false
   },
   "outputs": [
    {
     "name": "stdout",
     "output_type": "stream",
     "text": [
      "1089154\n"
     ]
    }
   ],
   "source": [
    "from itertools import takewhile\n",
    "\n",
    "def fibonacci():\n",
    "    i,j=0,1\n",
    "    while True:\n",
    "        yield j\n",
    "        i,j=j,i+j\n",
    "\n",
    "is_odd = lambda x: x % 2\n",
    "\n",
    "print sum(x for x in list(takewhile(lambda x: x<1000000, fibonacci())) if not is_odd(x))"
   ]
  },
  {
   "cell_type": "markdown",
   "metadata": {},
   "source": [
    "** В директории находится текстовый файл с киррилицей. Необходимо прочитать его и построить частоту, с которой встречается каждая из гласных, 3 балла**"
   ]
  },
  {
   "cell_type": "code",
   "execution_count": 5,
   "metadata": {
    "collapsed": false
   },
   "outputs": [
    {
     "name": "stdout",
     "output_type": "stream",
     "text": [
      "а  58\n",
      "о  58\n",
      "е  51\n",
      "и  45\n",
      "у  24\n",
      "ы  17\n",
      "я  15\n",
      "ё  11\n",
      "ю  3\n"
     ]
    }
   ],
   "source": [
    "import io\n",
    "from collections import Counter\n",
    "\n",
    "alf  = u'аеёиоуыэюя'\n",
    "text = ''\n",
    "file = io.open('input.html', 'r', encoding='utf8')\n",
    "\n",
    "ch = '1'\n",
    "while ch:\n",
    "    ch = (file.read(1)).lower()\n",
    "    if ch in alf:\n",
    "        text += ch\n",
    "\n",
    "freq = Counter(text)\n",
    "for ch, count in freq.most_common():\n",
    "    print(u\"{0}  {1}\".format(ch, count))\n"
   ]
  },
  {
   "cell_type": "markdown",
   "metadata": {},
   "source": [
    "** Написать код, который инвертирует значения в словаре (значение:ключ вместо ключ:значение), 1 балл. **"
   ]
  },
  {
   "cell_type": "code",
   "execution_count": 4,
   "metadata": {
    "collapsed": false
   },
   "outputs": [
    {
     "name": "stdout",
     "output_type": "stream",
     "text": [
      "{1: 'dd', 2: 'bb', 3: 'cc'}\n",
      "{1: ['aa', 'dd'], 2: ['bb'], 3: ['cc']}\n"
     ]
    }
   ],
   "source": [
    "d = {\"aa\":1, \"bb\":2, \"cc\":3, \"dd\":1}\n",
    "#Если все values в словаре уникальные\n",
    "inv = dict([[v,k] for k,v in d.items()])\n",
    "print inv\n",
    "\n",
    "#Если есть одинаковые values у разных ключей, то при обращении сделаем список из этих keys\n",
    "def dictinvert(d):\n",
    "    inv = {}\n",
    "    for k, v in d.iteritems():\n",
    "        keys = inv.setdefault(v, [])\n",
    "        keys.append(k)\n",
    "    return inv\n",
    "print dictinvert(d)"
   ]
  },
  {
   "cell_type": "code",
   "execution_count": null,
   "metadata": {
    "collapsed": true
   },
   "outputs": [],
   "source": []
  }
 ],
 "metadata": {
  "anaconda-cloud": {},
  "kernelspec": {
   "display_name": "Python [Root]",
   "language": "python",
   "name": "Python [Root]"
  },
  "language_info": {
   "codemirror_mode": {
    "name": "ipython",
    "version": 2
   },
   "file_extension": ".py",
   "mimetype": "text/x-python",
   "name": "python",
   "nbconvert_exporter": "python",
   "pygments_lexer": "ipython2",
   "version": "2.7.12"
  }
 },
 "nbformat": 4,
 "nbformat_minor": 0
}
